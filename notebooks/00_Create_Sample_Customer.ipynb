{
 "cells": [
  {
   "cell_type": "code",
   "execution_count": 17,
   "id": "29646a01-1e8a-4784-b16f-476d99b9dd2a",
   "metadata": {},
   "outputs": [],
   "source": [
    "# Load the original dataset"
   ]
  },
  {
   "cell_type": "code",
   "execution_count": 24,
   "id": "a93fe673-6d6e-41d2-9f12-fea650c5fec8",
   "metadata": {},
   "outputs": [],
   "source": [
    "import pandas as pd\n",
    "from data_prep import clean_data, encode_categoricals\n",
    "df = pd.read_csv('/Users/monali/Documents/Customer_Churn_Prediction/data/raw/WA_Fn-UseC_-Telco-Customer-Churn.csv')"
   ]
  },
  {
   "cell_type": "code",
   "execution_count": 25,
   "id": "a721441e-7269-4309-86d5-98c4f847bb1c",
   "metadata": {},
   "outputs": [],
   "source": [
    "# Drop the Churn column (to simulate new data)"
   ]
  },
  {
   "cell_type": "code",
   "execution_count": 26,
   "id": "16be94d8-acc2-4c39-8801-3cff8413a6ba",
   "metadata": {},
   "outputs": [],
   "source": [
    "df_new = df.drop(columns=[\"Churn\"])"
   ]
  },
  {
   "cell_type": "code",
   "execution_count": 27,
   "id": "e8e540e6-33f8-4c1c-a4a4-fbcb1cf92459",
   "metadata": {},
   "outputs": [],
   "source": [
    "# Clean + encode using same pipeline as train"
   ]
  },
  {
   "cell_type": "code",
   "execution_count": 28,
   "id": "6aac0aff-d9e9-458a-b809-a516c044c2a3",
   "metadata": {},
   "outputs": [],
   "source": [
    "df_cleaned = clean_data(df_new)\n",
    "df_encoded = encode_categoricals(df_cleaned)"
   ]
  },
  {
   "cell_type": "code",
   "execution_count": 29,
   "id": "51eef71b-cb87-48c0-acbd-977253bf54d1",
   "metadata": {},
   "outputs": [],
   "source": [
    "# Save a small sample to file"
   ]
  },
  {
   "cell_type": "code",
   "execution_count": 30,
   "id": "83424eca-83f0-4767-915b-c5bfbf570a11",
   "metadata": {},
   "outputs": [],
   "source": [
    "df_sample.sample(n=5, random_state=42).to_csv('/Users/monali/Documents/Customer_Churn_Prediction/data/raw/sample_customers.csv', index=False)"
   ]
  },
  {
   "cell_type": "code",
   "execution_count": null,
   "id": "aa036634-e187-4e16-a026-656645787027",
   "metadata": {},
   "outputs": [],
   "source": []
  }
 ],
 "metadata": {
  "kernelspec": {
   "display_name": "Python 3 (ipykernel)",
   "language": "python",
   "name": "python3"
  },
  "language_info": {
   "codemirror_mode": {
    "name": "ipython",
    "version": 3
   },
   "file_extension": ".py",
   "mimetype": "text/x-python",
   "name": "python",
   "nbconvert_exporter": "python",
   "pygments_lexer": "ipython3",
   "version": "3.13.5"
  }
 },
 "nbformat": 4,
 "nbformat_minor": 5
}
