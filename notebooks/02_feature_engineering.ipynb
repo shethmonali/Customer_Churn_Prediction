{
 "cells": [
  {
   "cell_type": "code",
   "execution_count": 1,
   "id": "a35a8fc7-5cd5-4fb4-a9e8-5b2f857d163d",
   "metadata": {},
   "outputs": [],
   "source": [
    "import pandas as pd\n",
    "from data_prep import load_data, clean_data, encode_categoricals"
   ]
  },
  {
   "cell_type": "code",
   "execution_count": 2,
   "id": "0e309976-03a1-4dde-8048-0c31d1593045",
   "metadata": {},
   "outputs": [],
   "source": [
    "# Load raw data"
   ]
  },
  {
   "cell_type": "code",
   "execution_count": 3,
   "id": "551118e1-18d9-4002-83e5-d43347123dbf",
   "metadata": {},
   "outputs": [],
   "source": [
    "df = load_data('/Users/monali/Documents/Customer_Churn_Prediction/data/raw/WA_Fn-UseC_-Telco-Customer-Churn.csv')\n",
    "df = clean_data(df)\n",
    "df = encode_categoricals(df)"
   ]
  },
  {
   "cell_type": "code",
   "execution_count": 4,
   "id": "a05673b0-3480-4718-8d0c-2fab05476685",
   "metadata": {},
   "outputs": [],
   "source": [
    "# Quick feature inspection"
   ]
  },
  {
   "cell_type": "code",
   "execution_count": 5,
   "id": "eced37d9-dbaa-41d4-adfa-616de991e9c1",
   "metadata": {},
   "outputs": [
    {
     "name": "stdout",
     "output_type": "stream",
     "text": [
      "<class 'pandas.core.frame.DataFrame'>\n",
      "RangeIndex: 7043 entries, 0 to 7042\n",
      "Data columns (total 31 columns):\n",
      " #   Column                                 Non-Null Count  Dtype  \n",
      "---  ------                                 --------------  -----  \n",
      " 0   gender                                 7043 non-null   int64  \n",
      " 1   SeniorCitizen                          7043 non-null   int64  \n",
      " 2   Partner                                7043 non-null   int64  \n",
      " 3   Dependents                             7043 non-null   int64  \n",
      " 4   tenure                                 7043 non-null   int64  \n",
      " 5   PhoneService                           7043 non-null   int64  \n",
      " 6   PaperlessBilling                       7043 non-null   int64  \n",
      " 7   MonthlyCharges                         7043 non-null   float64\n",
      " 8   TotalCharges                           7043 non-null   float64\n",
      " 9   Churn                                  7043 non-null   int64  \n",
      " 10  MultipleLines_No phone service         7043 non-null   bool   \n",
      " 11  MultipleLines_Yes                      7043 non-null   bool   \n",
      " 12  InternetService_Fiber optic            7043 non-null   bool   \n",
      " 13  InternetService_No                     7043 non-null   bool   \n",
      " 14  OnlineSecurity_No internet service     7043 non-null   bool   \n",
      " 15  OnlineSecurity_Yes                     7043 non-null   bool   \n",
      " 16  OnlineBackup_No internet service       7043 non-null   bool   \n",
      " 17  OnlineBackup_Yes                       7043 non-null   bool   \n",
      " 18  DeviceProtection_No internet service   7043 non-null   bool   \n",
      " 19  DeviceProtection_Yes                   7043 non-null   bool   \n",
      " 20  TechSupport_No internet service        7043 non-null   bool   \n",
      " 21  TechSupport_Yes                        7043 non-null   bool   \n",
      " 22  StreamingTV_No internet service        7043 non-null   bool   \n",
      " 23  StreamingTV_Yes                        7043 non-null   bool   \n",
      " 24  StreamingMovies_No internet service    7043 non-null   bool   \n",
      " 25  StreamingMovies_Yes                    7043 non-null   bool   \n",
      " 26  Contract_One year                      7043 non-null   bool   \n",
      " 27  Contract_Two year                      7043 non-null   bool   \n",
      " 28  PaymentMethod_Credit card (automatic)  7043 non-null   bool   \n",
      " 29  PaymentMethod_Electronic check         7043 non-null   bool   \n",
      " 30  PaymentMethod_Mailed check             7043 non-null   bool   \n",
      "dtypes: bool(21), float64(2), int64(8)\n",
      "memory usage: 694.8 KB\n",
      "None\n",
      "   gender  SeniorCitizen  Partner  Dependents  tenure  PhoneService  \\\n",
      "0       0              0        1           0       1             0   \n",
      "1       1              0        0           0      34             1   \n",
      "2       1              0        0           0       2             1   \n",
      "3       1              0        0           0      45             0   \n",
      "4       0              0        0           0       2             1   \n",
      "\n",
      "   PaperlessBilling  MonthlyCharges  TotalCharges  Churn  ...  \\\n",
      "0                 1           29.85         29.85      0  ...   \n",
      "1                 0           56.95       1889.50      0  ...   \n",
      "2                 1           53.85        108.15      1  ...   \n",
      "3                 0           42.30       1840.75      0  ...   \n",
      "4                 1           70.70        151.65      1  ...   \n",
      "\n",
      "   TechSupport_Yes  StreamingTV_No internet service  StreamingTV_Yes  \\\n",
      "0            False                            False            False   \n",
      "1            False                            False            False   \n",
      "2            False                            False            False   \n",
      "3             True                            False            False   \n",
      "4            False                            False            False   \n",
      "\n",
      "   StreamingMovies_No internet service  StreamingMovies_Yes  \\\n",
      "0                                False                False   \n",
      "1                                False                False   \n",
      "2                                False                False   \n",
      "3                                False                False   \n",
      "4                                False                False   \n",
      "\n",
      "   Contract_One year  Contract_Two year  \\\n",
      "0              False              False   \n",
      "1               True              False   \n",
      "2              False              False   \n",
      "3               True              False   \n",
      "4              False              False   \n",
      "\n",
      "   PaymentMethod_Credit card (automatic)  PaymentMethod_Electronic check  \\\n",
      "0                                  False                            True   \n",
      "1                                  False                           False   \n",
      "2                                  False                           False   \n",
      "3                                  False                           False   \n",
      "4                                  False                            True   \n",
      "\n",
      "   PaymentMethod_Mailed check  \n",
      "0                       False  \n",
      "1                        True  \n",
      "2                        True  \n",
      "3                       False  \n",
      "4                       False  \n",
      "\n",
      "[5 rows x 31 columns]\n"
     ]
    }
   ],
   "source": [
    "print(df.info())\n",
    "print(df.head())"
   ]
  },
  {
   "cell_type": "code",
   "execution_count": 6,
   "id": "ca3f3fae-efc6-4b67-9ed2-8ea8ebc1a5d9",
   "metadata": {},
   "outputs": [],
   "source": [
    "# Export processed data"
   ]
  },
  {
   "cell_type": "code",
   "execution_count": 7,
   "id": "6ad834e4-1d31-4115-b33a-89a6e98282f5",
   "metadata": {},
   "outputs": [],
   "source": [
    "df.to_csv('/Users/monali/Documents/Customer_Churn_Prediction/data/processed/churn_cleaned.csv', index=False)"
   ]
  },
  {
   "cell_type": "code",
   "execution_count": null,
   "id": "3986391e-ae1c-48f1-94b0-8df8efcde803",
   "metadata": {},
   "outputs": [],
   "source": []
  }
 ],
 "metadata": {
  "kernelspec": {
   "display_name": "Python 3 (ipykernel)",
   "language": "python",
   "name": "python3"
  },
  "language_info": {
   "codemirror_mode": {
    "name": "ipython",
    "version": 3
   },
   "file_extension": ".py",
   "mimetype": "text/x-python",
   "name": "python",
   "nbconvert_exporter": "python",
   "pygments_lexer": "ipython3",
   "version": "3.13.5"
  }
 },
 "nbformat": 4,
 "nbformat_minor": 5
}
