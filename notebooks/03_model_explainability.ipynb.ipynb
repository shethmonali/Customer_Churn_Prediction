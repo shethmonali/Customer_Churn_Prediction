{
 "cells": [
  {
   "cell_type": "code",
   "execution_count": 6,
   "id": "ba4c98de-0dad-447f-bfcd-db57af05236c",
   "metadata": {},
   "outputs": [],
   "source": [
    "import shap\n",
    "import joblib\n",
    "import pandas as pd\n",
    "from data_prep import prepare_features\n",
    "import matplotlib.pyplot as plt"
   ]
  },
  {
   "cell_type": "code",
   "execution_count": 7,
   "id": "16f0b165-4a12-4c8e-b188-afc59f3f937a",
   "metadata": {},
   "outputs": [],
   "source": [
    "# Load model and data"
   ]
  },
  {
   "cell_type": "code",
   "execution_count": 8,
   "id": "e0d8178f-96c9-46a0-a075-a682fa98a7ca",
   "metadata": {},
   "outputs": [],
   "source": [
    "X, y = prepare_features('/Users/monali/Documents/Customer_Churn_Prediction/data/raw/WA_Fn-UseC_-Telco-Customer-Churn.csv')\n",
    "model = joblib.load('/Users/monali/Documents/Customer_Churn_Prediction/models/model.pkl')"
   ]
  },
  {
   "cell_type": "code",
   "execution_count": null,
   "id": "5d1226ea-5df2-4a97-a7a1-cf24d46b9e96",
   "metadata": {},
   "outputs": [],
   "source": []
  }
 ],
 "metadata": {
  "kernelspec": {
   "display_name": "Python 3 (ipykernel)",
   "language": "python",
   "name": "python3"
  },
  "language_info": {
   "codemirror_mode": {
    "name": "ipython",
    "version": 3
   },
   "file_extension": ".py",
   "mimetype": "text/x-python",
   "name": "python",
   "nbconvert_exporter": "python",
   "pygments_lexer": "ipython3",
   "version": "3.13.5"
  }
 },
 "nbformat": 4,
 "nbformat_minor": 5
}
